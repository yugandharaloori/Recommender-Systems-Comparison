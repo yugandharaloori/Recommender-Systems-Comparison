{
 "cells": [
  {
   "cell_type": "markdown",
   "metadata": {
    "ExecuteTime": {
     "end_time": "2017-01-19T00:18:07.398000",
     "start_time": "2017-01-19T00:18:06.440000"
    }
   },
   "source": [
    "# Initialise "
   ]
  },
  {
   "cell_type": "code",
   "execution_count": 71,
   "metadata": {},
   "outputs": [],
   "source": [
    "import sys\n",
    "import surprise as sp\n",
    "import numpy as np\n",
    "import pandas as pd\n",
    "import time\n",
    "import datetime\n",
    "import random\n",
    "import matplotlib as mpl\n",
    "import matplotlib.pyplot as plt\n",
    "%matplotlib inline\n",
    "\n",
    "from tabulate import tabulate\n",
    "from recommender.algorithms.models import RecommenderModel\n",
    "from recommender import (SVDModel, PopularityModel, RandomModel,\n",
    "                    RecommenderData, get_movielens_data)\n",
    "from recommender.algorithms.models import CoffeeModel\n",
    "from recommender.evaluation import evaluation_engine as ee\n",
    "from recommender.tools.preprocessing import filter_sessions_by_length\n",
    "from recommender.evaluation.plotting import show_hit_rates, show_precision_recall, show_ranking, _plot_pair\n",
    "\n",
    "from surprise import Dataset\n",
    "from surprise.model_selection import cross_validate\n",
    "from surprise.model_selection import KFold\n",
    "from surprise import NormalPredictor\n",
    "from surprise import BaselineOnly\n",
    "from surprise import KNNBasic\n",
    "from surprise import KNNWithMeans\n",
    "from surprise import KNNBaseline\n",
    "from surprise import SVD\n",
    "from surprise import SVDpp\n",
    "from surprise import NMF\n",
    "from surprise import SlopeOne\n",
    "from surprise import CoClustering"
   ]
  },
  {
   "cell_type": "code",
   "execution_count": 60,
   "metadata": {
    "ExecuteTime": {
     "end_time": "2017-01-19T00:18:09.900000",
     "start_time": "2017-01-19T00:18:09.895000"
    }
   },
   "outputs": [],
   "source": [
    "DATA_NAME = 'ml-1m'\n",
    "DATA_FILE = None\n",
    "SESS_SIZE = 20"
   ]
  },
  {
   "cell_type": "markdown",
   "metadata": {},
   "source": [
    "## Prepare data"
   ]
  },
  {
   "cell_type": "code",
   "execution_count": 61,
   "metadata": {
    "ExecuteTime": {
     "end_time": "2017-01-19T00:18:14.527000",
     "start_time": "2017-01-19T00:18:13.948000"
    }
   },
   "outputs": [],
   "source": [
    "ml_data = get_movielens_data(local_file=DATA_FILE, get_genres=False)"
   ]
  },
  {
   "cell_type": "code",
   "execution_count": 62,
   "metadata": {
    "ExecuteTime": {
     "end_time": "2017-01-19T00:18:16.284000",
     "start_time": "2017-01-19T00:18:15.954000"
    }
   },
   "outputs": [],
   "source": [
    "ml_data = filter_sessions_by_length(ml_data, min_session_length=SESS_SIZE)\n",
    "data_model = RecommenderData(ml_data, 'userid', 'movieid', 'rating', seed = 0)\n",
    "data_model.name = DATA_NAME"
   ]
  },
  {
   "cell_type": "code",
   "execution_count": 63,
   "metadata": {},
   "outputs": [
    {
     "data": {
      "text/plain": [
       "{'random_holdout': False,\n",
       " 'warm_start': True,\n",
       " 'test_fold': 5,\n",
       " 'holdout_size': 3,\n",
       " 'test_sample': None,\n",
       " 'negative_prediction': False,\n",
       " 'permute_tops': False,\n",
       " 'shuffle_data': False,\n",
       " 'test_ratio': 0.2}"
      ]
     },
     "execution_count": 63,
     "metadata": {},
     "output_type": "execute_result"
    }
   ],
   "source": [
    "data_model.get_configuration()"
   ]
  },
  {
   "cell_type": "code",
   "execution_count": 64,
   "metadata": {},
   "outputs": [],
   "source": [
    "# data parsing\n",
    "parsed_data = pd.read_csv(\"winemag-data-130k-v2.csv\")\n",
    "filtered_data = parsed_data[['country','province','region_1','variety','price','taster_name','points']]\n",
    "cleaned_data = filtered_data.rename(columns={'region_1': 'region'}).dropna(subset=['country','province','region','variety','taster_name','points'])\n",
    "\n",
    "# group all wines from a region that have the same variety, assign mean price\n",
    "wines_all = cleaned_data.groupby(['country', 'province', 'region', 'variety']).agg({'price': 'mean'}).reset_index()\n",
    "wines_all = wines_all.assign(id=pd.Series(range(1, wines_all.shape[0]+1), dtype=int, index=wines_all.index))\n",
    "wines_all = wines_all[['id', 'country', 'province', 'region', 'variety', 'price']]\n",
    "\n",
    "users_all = cleaned_data.groupby('taster_name').count().reset_index()[['taster_name']]\n",
    "users_all = users_all.assign(id=pd.Series(range(1, users_all.shape[0]+1), dtype=int, index=users_all.index))\n",
    "\n",
    "# link ratings to wines and users via id\n",
    "wine_id_translator = {(row['country'], row['province'], row['region'], row['variety']): row['id'] for index, row in wines_all.iterrows()}\n",
    "user_id_translator = {row['taster_name']: row['id'] for index, row in users_all.iterrows()}\n",
    "def get_wine_id_series(data_frame):\n",
    "    return pd.Series((wine_id_translator[(row['country'], row['province'], row['region'], row['variety'])] for _, row in data_frame.iterrows()), index=data_frame.index)\n",
    "def get_user_id_series(data_frame):\n",
    "    return pd.Series((user_id_translator[row['taster_name']] for _, row in data_frame.iterrows()), index=data_frame.index)\n",
    "\n",
    "# aggregate average points of all ratings from a user for a wine\n",
    "ratings_all = cleaned_data.assign(wine_id=get_wine_id_series, user_id=get_user_id_series)[['taster_name', 'user_id', 'wine_id', 'points']].groupby(['user_id', 'taster_name', 'wine_id']).mean().reset_index()\n",
    "\n",
    "# only include wines that have 3 or more ratings\n",
    "most_rated_wines = list(ratings_all.groupby(['wine_id']).count()[lambda x: x['points'] >= 3].reset_index()['wine_id'].values)\n",
    "\n",
    "ratings = ratings_all.loc[ratings_all['wine_id'].isin(most_rated_wines)].astype({'wine_id': int, 'user_id': int}).reset_index(drop=True)\n",
    "wines = wines_all.loc[wines_all['id'].isin(most_rated_wines)].astype({'id': int}).reset_index(drop=True)\n",
    "users = users_all.loc[users_all['id'].isin(ratings['user_id'].values)].astype({'id': int}).reset_index(drop=True)"
   ]
  },
  {
   "cell_type": "code",
   "execution_count": 65,
   "metadata": {},
   "outputs": [
    {
     "data": {
      "text/html": [
       "<div>\n",
       "<style scoped>\n",
       "    .dataframe tbody tr th:only-of-type {\n",
       "        vertical-align: middle;\n",
       "    }\n",
       "\n",
       "    .dataframe tbody tr th {\n",
       "        vertical-align: top;\n",
       "    }\n",
       "\n",
       "    .dataframe thead th {\n",
       "        text-align: right;\n",
       "    }\n",
       "</style>\n",
       "<table border=\"1\" class=\"dataframe\">\n",
       "  <thead>\n",
       "    <tr style=\"text-align: right;\">\n",
       "      <th></th>\n",
       "      <th>id</th>\n",
       "      <th>country</th>\n",
       "      <th>province</th>\n",
       "      <th>region</th>\n",
       "      <th>variety</th>\n",
       "      <th>price</th>\n",
       "    </tr>\n",
       "  </thead>\n",
       "  <tbody>\n",
       "    <tr>\n",
       "      <th>0</th>\n",
       "      <td>739</td>\n",
       "      <td>Canada</td>\n",
       "      <td>Ontario</td>\n",
       "      <td>Niagara Peninsula</td>\n",
       "      <td>Riesling</td>\n",
       "      <td>42.423077</td>\n",
       "    </tr>\n",
       "    <tr>\n",
       "      <th>1</th>\n",
       "      <td>741</td>\n",
       "      <td>Canada</td>\n",
       "      <td>Ontario</td>\n",
       "      <td>Niagara Peninsula</td>\n",
       "      <td>Vidal Blanc</td>\n",
       "      <td>62.615385</td>\n",
       "    </tr>\n",
       "    <tr>\n",
       "      <th>2</th>\n",
       "      <td>757</td>\n",
       "      <td>France</td>\n",
       "      <td>Alsace</td>\n",
       "      <td>Alsace</td>\n",
       "      <td>Gewürztraminer</td>\n",
       "      <td>34.206897</td>\n",
       "    </tr>\n",
       "    <tr>\n",
       "      <th>3</th>\n",
       "      <td>760</td>\n",
       "      <td>France</td>\n",
       "      <td>Alsace</td>\n",
       "      <td>Alsace</td>\n",
       "      <td>Pinot Blanc</td>\n",
       "      <td>17.622047</td>\n",
       "    </tr>\n",
       "    <tr>\n",
       "      <th>4</th>\n",
       "      <td>778</td>\n",
       "      <td>France</td>\n",
       "      <td>Alsace</td>\n",
       "      <td>Crémant d'Alsace</td>\n",
       "      <td>Sparkling Blend</td>\n",
       "      <td>24.886256</td>\n",
       "    </tr>\n",
       "  </tbody>\n",
       "</table>\n",
       "</div>"
      ],
      "text/plain": [
       "    id country province             region          variety      price\n",
       "0  739  Canada  Ontario  Niagara Peninsula         Riesling  42.423077\n",
       "1  741  Canada  Ontario  Niagara Peninsula      Vidal Blanc  62.615385\n",
       "2  757  France   Alsace             Alsace   Gewürztraminer  34.206897\n",
       "3  760  France   Alsace             Alsace      Pinot Blanc  17.622047\n",
       "4  778  France   Alsace   Crémant d'Alsace  Sparkling Blend  24.886256"
      ]
     },
     "execution_count": 65,
     "metadata": {},
     "output_type": "execute_result"
    }
   ],
   "source": [
    "wines.head()"
   ]
  },
  {
   "cell_type": "code",
   "execution_count": 66,
   "metadata": {},
   "outputs": [
    {
     "data": {
      "text/html": [
       "<div>\n",
       "<style scoped>\n",
       "    .dataframe tbody tr th:only-of-type {\n",
       "        vertical-align: middle;\n",
       "    }\n",
       "\n",
       "    .dataframe tbody tr th {\n",
       "        vertical-align: top;\n",
       "    }\n",
       "\n",
       "    .dataframe thead th {\n",
       "        text-align: right;\n",
       "    }\n",
       "</style>\n",
       "<table border=\"1\" class=\"dataframe\">\n",
       "  <thead>\n",
       "    <tr style=\"text-align: right;\">\n",
       "      <th></th>\n",
       "      <th>taster_name</th>\n",
       "      <th>id</th>\n",
       "    </tr>\n",
       "  </thead>\n",
       "  <tbody>\n",
       "    <tr>\n",
       "      <th>0</th>\n",
       "      <td>Alexander Peartree</td>\n",
       "      <td>1</td>\n",
       "    </tr>\n",
       "    <tr>\n",
       "      <th>1</th>\n",
       "      <td>Anna Lee C. Iijima</td>\n",
       "      <td>2</td>\n",
       "    </tr>\n",
       "    <tr>\n",
       "      <th>2</th>\n",
       "      <td>Anne Krebiehl MW</td>\n",
       "      <td>3</td>\n",
       "    </tr>\n",
       "    <tr>\n",
       "      <th>3</th>\n",
       "      <td>Carrie Dykes</td>\n",
       "      <td>4</td>\n",
       "    </tr>\n",
       "    <tr>\n",
       "      <th>4</th>\n",
       "      <td>Christina Pickard</td>\n",
       "      <td>5</td>\n",
       "    </tr>\n",
       "  </tbody>\n",
       "</table>\n",
       "</div>"
      ],
      "text/plain": [
       "          taster_name  id\n",
       "0  Alexander Peartree   1\n",
       "1  Anna Lee C. Iijima   2\n",
       "2    Anne Krebiehl MW   3\n",
       "3        Carrie Dykes   4\n",
       "4   Christina Pickard   5"
      ]
     },
     "execution_count": 66,
     "metadata": {},
     "output_type": "execute_result"
    }
   ],
   "source": [
    "users.head()"
   ]
  },
  {
   "cell_type": "code",
   "execution_count": 67,
   "metadata": {},
   "outputs": [
    {
     "data": {
      "text/html": [
       "<div>\n",
       "<style scoped>\n",
       "    .dataframe tbody tr th:only-of-type {\n",
       "        vertical-align: middle;\n",
       "    }\n",
       "\n",
       "    .dataframe tbody tr th {\n",
       "        vertical-align: top;\n",
       "    }\n",
       "\n",
       "    .dataframe thead th {\n",
       "        text-align: right;\n",
       "    }\n",
       "</style>\n",
       "<table border=\"1\" class=\"dataframe\">\n",
       "  <thead>\n",
       "    <tr style=\"text-align: right;\">\n",
       "      <th></th>\n",
       "      <th>user_id</th>\n",
       "      <th>taster_name</th>\n",
       "      <th>wine_id</th>\n",
       "      <th>points</th>\n",
       "    </tr>\n",
       "  </thead>\n",
       "  <tbody>\n",
       "    <tr>\n",
       "      <th>0</th>\n",
       "      <td>1</td>\n",
       "      <td>Alexander Peartree</td>\n",
       "      <td>5069</td>\n",
       "      <td>87.666667</td>\n",
       "    </tr>\n",
       "    <tr>\n",
       "      <th>1</th>\n",
       "      <td>1</td>\n",
       "      <td>Alexander Peartree</td>\n",
       "      <td>5737</td>\n",
       "      <td>89.000000</td>\n",
       "    </tr>\n",
       "    <tr>\n",
       "      <th>2</th>\n",
       "      <td>1</td>\n",
       "      <td>Alexander Peartree</td>\n",
       "      <td>5738</td>\n",
       "      <td>86.750000</td>\n",
       "    </tr>\n",
       "    <tr>\n",
       "      <th>3</th>\n",
       "      <td>1</td>\n",
       "      <td>Alexander Peartree</td>\n",
       "      <td>5741</td>\n",
       "      <td>86.250000</td>\n",
       "    </tr>\n",
       "    <tr>\n",
       "      <th>4</th>\n",
       "      <td>1</td>\n",
       "      <td>Alexander Peartree</td>\n",
       "      <td>5743</td>\n",
       "      <td>88.000000</td>\n",
       "    </tr>\n",
       "  </tbody>\n",
       "</table>\n",
       "</div>"
      ],
      "text/plain": [
       "   user_id         taster_name  wine_id     points\n",
       "0        1  Alexander Peartree     5069  87.666667\n",
       "1        1  Alexander Peartree     5737  89.000000\n",
       "2        1  Alexander Peartree     5738  86.750000\n",
       "3        1  Alexander Peartree     5741  86.250000\n",
       "4        1  Alexander Peartree     5743  88.000000"
      ]
     },
     "execution_count": 67,
     "metadata": {},
     "output_type": "execute_result"
    }
   ],
   "source": [
    "ratings.head()"
   ]
  },
  {
   "cell_type": "code",
   "execution_count": 68,
   "metadata": {},
   "outputs": [],
   "source": [
    "classes = (SVD, NMF, SlopeOne, KNNBasic, KNNWithMeans, KNNBaseline,\n",
    "           CoClustering, BaselineOnly, NormalPredictor, SVDpp)"
   ]
  },
  {
   "cell_type": "markdown",
   "metadata": {},
   "source": [
    "## Prepare models"
   ]
  },
  {
   "cell_type": "code",
   "execution_count": 6,
   "metadata": {
    "ExecuteTime": {
     "end_time": "2017-01-19T00:18:20.954000",
     "start_time": "2017-01-19T00:18:20.950000"
    }
   },
   "outputs": [],
   "source": [
    "svd = SVDModel(data_model)\n",
    "popular = PopularityModel(data_model)\n",
    "random = RandomModel(data_model, seed=0)\n",
    "coffee = CoffeeModel(data_model)\n",
    "coffee.method = 'Hybrid'\n",
    "#pmf = ProbabilisticMF(data_model)"
   ]
  },
  {
   "cell_type": "code",
   "execution_count": 7,
   "metadata": {
    "ExecuteTime": {
     "end_time": "2017-01-19T00:19:37.710000",
     "start_time": "2017-01-19T00:19:37.707000"
    }
   },
   "outputs": [],
   "source": [
    "coffee.flattener = [3, 4] "
   ]
  },
  {
   "cell_type": "code",
   "execution_count": 8,
   "metadata": {
    "ExecuteTime": {
     "end_time": "2017-01-19T00:19:40.427000",
     "start_time": "2017-01-19T00:19:40.419000"
    }
   },
   "outputs": [
    {
     "data": {
      "text/plain": [
       "['PureSVD', 'Hybrid', 'MP', 'RND']"
      ]
     },
     "execution_count": 8,
     "metadata": {},
     "output_type": "execute_result"
    }
   ],
   "source": [
    "models = [svd, coffee, popular, random]\n",
    "model_names = [model.method for model in models]\n",
    "model_names"
   ]
  },
  {
   "cell_type": "code",
   "execution_count": 9,
   "metadata": {
    "ExecuteTime": {
     "end_time": "2017-01-19T00:19:41.991000",
     "start_time": "2017-01-19T00:19:41.987000"
    }
   },
   "outputs": [],
   "source": [
    "for model in models:\n",
    "    model.switch_positive = 4"
   ]
  },
  {
   "cell_type": "code",
   "execution_count": 38,
   "metadata": {},
   "outputs": [],
   "source": [
    "# Collaborative Filtering\n",
    "\n",
    "def predict_cf(ratings, taster_name, wine_id):\n",
    "    is_target = (ratings['taster_name'] == taster_name) & (ratings['wine_id'] == wine_id)\n",
    "    target = ratings[is_target].iloc[0]\n",
    "    \n",
    "    train_set = sp.Dataset.load_from_df(\n",
    "        ratings[~is_target][['user_id', 'wine_id', 'points']], \n",
    "        sp.Reader(rating_scale=(0, 100))\n",
    "    ).build_full_trainset()\n",
    "\n",
    "    algo = sp.KNNBasic(verbose=False)\n",
    "    algo.fit(train_set)\n",
    "    prediction = algo.predict(target['user_id'], target['wine_id'], verbose=False)\n",
    "    return prediction.est, prediction.est - target['points'], target['points']"
   ]
  },
  {
   "cell_type": "code",
   "execution_count": 39,
   "metadata": {},
   "outputs": [],
   "source": [
    "# Content-Based\n",
    "\n",
    "from sklearn.preprocessing import LabelEncoder, MinMaxScaler\n",
    "from sklearn.neighbors import KNeighborsClassifier\n",
    "\n",
    "def predict_cn(ratings, wines, taster_name, wine_id):\n",
    "    user_ratings = ratings[ratings['taster_name'] == taster_name].join(wines.set_index('id'), on='wine_id')\n",
    "    is_target = (user_ratings['wine_id'] == wine_id)\n",
    "    \n",
    "    features = pd.get_dummies(user_ratings.drop(columns=['points']))\n",
    "    train_features = features[~is_target]\n",
    "    target_features = features[is_target]\n",
    "    \n",
    "    encoder = LabelEncoder()\n",
    "    train_labels = encoder.fit_transform(user_ratings[~is_target]['points'])\n",
    "    target_label = user_ratings[is_target]['points'].iloc[0]\n",
    "\n",
    "    clf = KNeighborsClassifier(n_neighbors=1)\n",
    "    clf.fit(train_features, train_labels)\n",
    "    prediction = encoder.inverse_transform(clf.predict(target_features))[0]\n",
    "    return prediction, prediction - target_label, target_label"
   ]
  },
  {
   "cell_type": "code",
   "execution_count": 40,
   "metadata": {},
   "outputs": [],
   "source": [
    "def test_classifier(taster_name, wine_id):\n",
    "    pred_cf, error_cf, truth = predict_cf(ratings, taster_name, wine_id)\n",
    "    pred_cn, error_cn, truth = predict_cn(ratings, wines, taster_name, wine_id)\n",
    "    print(\"Results for {} on wine with id {}:\".format(taster_name, wine_id))\n",
    "    print(\"Collaborative Filtering: \\t prediction: {:.5f} \\t error: {:.5f}\".format(pred_cf, error_cf))\n",
    "    print(\"Content-Based: \\t\\t\\t prediction: {:.5f} \\t error: {:.5f}\".format(pred_cn, error_cn))"
   ]
  },
  {
   "cell_type": "code",
   "execution_count": 41,
   "metadata": {},
   "outputs": [
    {
     "name": "stdout",
     "output_type": "stream",
     "text": [
      "Weighted Hybrid: \t prediction: 89.57780 \t error: -0.08887\n"
     ]
    }
   ],
   "source": [
    "def predict_weighted(ratings, wines, taster_name, wine_id):\n",
    "    prediction_cf, _, truth = predict_cf(ratings, taster_name, wine_id)\n",
    "    prediction_cn, _, truth = predict_cn(ratings, wines, taster_name, wine_id)\n",
    "    \n",
    "    # Weights can be chosen differently, depending on \n",
    "    # the (assumed) quality of the recommenders\n",
    "    prediction = 0.5 * prediction_cf + 0.5 * prediction_cn\n",
    "    error = prediction - truth\n",
    "    return prediction, error, truth\n",
    "\n",
    "\n",
    "pred_weighted, error_weighted, truth = predict_weighted(ratings, wines, taster_name='Anna Lee C. Iijima', wine_id=741)\n",
    "print(\"Weighted Hybrid: \\t prediction: {:.5f} \\t error: {:.5f}\".format(pred_weighted, error_weighted))"
   ]
  },
  {
   "cell_type": "code",
   "execution_count": 44,
   "metadata": {},
   "outputs": [
    {
     "name": "stderr",
     "output_type": "stream",
     "text": [
      "/Library/Frameworks/Python.framework/Versions/3.8/lib/python3.8/site-packages/sklearn/decomposition/_nmf.py:1076: ConvergenceWarning: Maximum number of iterations 200 reached. Increase it to improve convergence.\n",
      "  warnings.warn(\"Maximum number of iterations %d reached. Increase it to\"\n"
     ]
    }
   ],
   "source": [
    "ratings_matrix = ratings.pivot(index='wine_id', columns='user_id', values='points')\n",
    "# NaN can be filld with the mean of either \n",
    "# the user's or the item's ratings.\n",
    "ratings_matrix = ratings_matrix.fillna(ratings_matrix.mean())\n",
    "\n",
    "from sklearn.decomposition import NMF\n",
    "model = NMF(n_components=3, init='random', random_state=0)\n",
    "W = model.fit_transform(ratings_matrix)\n",
    "wines_plus = pd.concat([wines, pd.DataFrame(W)], axis=1)"
   ]
  },
  {
   "cell_type": "code",
   "execution_count": 45,
   "metadata": {},
   "outputs": [],
   "source": [
    "def predict_switching(ratings, wines, taster_name, wine_id):\n",
    "    # The selection of the recommender is done based on the \n",
    "    # number of ratings that have been recorded for the item.\n",
    "    num_ratings = len(ratings[ratings['wine_id'] == wine_id])\n",
    "    if num_ratings > 3:\n",
    "        print('Using Collaborative Filtering recommender')\n",
    "        return predict_cf(ratings, taster_name, wine_id)\n",
    "    else:\n",
    "        print('Using Content-Based recommender')\n",
    "        return predict_cn(ratings, wines, taster_name, wine_id)\n"
   ]
  },
  {
   "cell_type": "markdown",
   "metadata": {},
   "source": [
    "## Set evaluation parameters"
   ]
  },
  {
   "cell_type": "code",
   "execution_count": 10,
   "metadata": {
    "ExecuteTime": {
     "end_time": "2017-01-19T00:19:46.148000",
     "start_time": "2017-01-19T00:19:46.143000"
    }
   },
   "outputs": [],
   "source": [
    "metrics = ['ranking', 'relevance', 'experience']\n",
    "topk_list = [1, 2, 3, 5, 10, 15, 20, 30, 50, 70, 100]\n",
    "test_samples = [0, -1]\n",
    "folds = [1, 2, 3, 4, 5]"
   ]
  },
  {
   "cell_type": "code",
   "execution_count": 11,
   "metadata": {
    "ExecuteTime": {
     "end_time": "2017-01-19T00:19:51.117000",
     "start_time": "2017-01-19T00:19:51.113000"
    }
   },
   "outputs": [],
   "source": [
    "data_model.holdout_size = 10\n",
    "data_model.random_holdout = True"
   ]
  },
  {
   "cell_type": "markdown",
   "metadata": {},
   "source": [
    "# Run experiments"
   ]
  },
  {
   "cell_type": "code",
   "execution_count": 12,
   "metadata": {
    "ExecuteTime": {
     "end_time": "2017-01-19T00:19:57.864000",
     "start_time": "2017-01-19T00:19:53.526000"
    },
    "scrolled": false
   },
   "outputs": [
    {
     "name": "stdout",
     "output_type": "stream",
     "text": [
      "Preparing data...\n"
     ]
    },
    {
     "name": "stderr",
     "output_type": "stream",
     "text": [
      "/Library/Frameworks/Python.framework/Versions/3.8/lib/python3.8/site-packages/recommender-0.2.1-py3.8.egg/recommender/algorithms/data.py:16: FutureWarning: is_copy is deprecated and will be removed in a future version. 'take' always returns a copy, so there is no need to specify this.\n"
     ]
    },
    {
     "name": "stdout",
     "output_type": "stream",
     "text": [
      "23 unique movieid's within 27 testset interactions were filtered. Reason: not in the training data.\n",
      "1 unique movieid's within 1 holdout interactions were filtered. Reason: not in the training data.\n",
      "1 of 1208 userid's were filtered out from holdout. Reason: incompatible number of items.\n",
      "1 userid's were filtered out from testset. Reason: inconsistent with holdout.\n",
      "Done.\n",
      "There are 803312 events in the training and 12070 events in the holdout.\n",
      "PureSVD training time: 0.130s\n",
      "Hybrid training time: 1.287s\n",
      "Preparing data...\n"
     ]
    },
    {
     "name": "stderr",
     "output_type": "stream",
     "text": [
      "/Library/Frameworks/Python.framework/Versions/3.8/lib/python3.8/site-packages/recommender-0.2.1-py3.8.egg/recommender/algorithms/data.py:16: FutureWarning: is_copy is deprecated and will be removed in a future version. 'take' always returns a copy, so there is no need to specify this.\n"
     ]
    },
    {
     "name": "stdout",
     "output_type": "stream",
     "text": [
      "47 unique movieid's within 56 testset interactions were filtered. Reason: not in the training data.\n",
      "2 unique movieid's within 2 holdout interactions were filtered. Reason: not in the training data.\n",
      "2 of 1208 userid's were filtered out from holdout. Reason: incompatible number of items.\n",
      "2 userid's were filtered out from testset. Reason: inconsistent with holdout.\n",
      "Done.\n",
      "There are 792890 events in the training and 12060 events in the holdout.\n",
      "PureSVD training time: 0.122s\n",
      "Hybrid training time: 0.649s\n",
      "Preparing data...\n"
     ]
    },
    {
     "name": "stderr",
     "output_type": "stream",
     "text": [
      "/Library/Frameworks/Python.framework/Versions/3.8/lib/python3.8/site-packages/recommender-0.2.1-py3.8.egg/recommender/algorithms/data.py:16: FutureWarning: is_copy is deprecated and will be removed in a future version. 'take' always returns a copy, so there is no need to specify this.\n"
     ]
    },
    {
     "name": "stdout",
     "output_type": "stream",
     "text": [
      "16 unique movieid's within 18 testset interactions were filtered. Reason: not in the training data.\n",
      "4 unique movieid's within 4 holdout interactions were filtered. Reason: not in the training data.\n",
      "4 of 1208 userid's were filtered out from holdout. Reason: incompatible number of items.\n",
      "4 userid's were filtered out from testset. Reason: inconsistent with holdout.\n",
      "Done.\n",
      "There are 808443 events in the training and 12040 events in the holdout.\n",
      "PureSVD training time: 0.137s\n",
      "Hybrid training time: 0.894s\n",
      "Preparing data...\n"
     ]
    },
    {
     "name": "stderr",
     "output_type": "stream",
     "text": [
      "/Library/Frameworks/Python.framework/Versions/3.8/lib/python3.8/site-packages/recommender-0.2.1-py3.8.egg/recommender/algorithms/data.py:16: FutureWarning: is_copy is deprecated and will be removed in a future version. 'take' always returns a copy, so there is no need to specify this.\n"
     ]
    },
    {
     "name": "stdout",
     "output_type": "stream",
     "text": [
      "28 unique movieid's within 39 testset interactions were filtered. Reason: not in the training data.\n",
      "2 unique movieid's within 2 holdout interactions were filtered. Reason: not in the training data.\n",
      "2 of 1208 userid's were filtered out from holdout. Reason: incompatible number of items.\n",
      "2 userid's were filtered out from testset. Reason: inconsistent with holdout.\n",
      "Done.\n",
      "There are 788733 events in the training and 12060 events in the holdout.\n",
      "PureSVD training time: 0.122s\n",
      "Hybrid training time: 0.946s\n",
      "Preparing data...\n"
     ]
    },
    {
     "name": "stderr",
     "output_type": "stream",
     "text": [
      "/Library/Frameworks/Python.framework/Versions/3.8/lib/python3.8/site-packages/recommender-0.2.1-py3.8.egg/recommender/algorithms/data.py:16: FutureWarning: is_copy is deprecated and will be removed in a future version. 'take' always returns a copy, so there is no need to specify this.\n"
     ]
    },
    {
     "name": "stdout",
     "output_type": "stream",
     "text": [
      "18 unique movieid's within 25 testset interactions were filtered. Reason: not in the training data.\n",
      "2 unique movieid's within 2 holdout interactions were filtered. Reason: not in the training data.\n",
      "2 of 1208 userid's were filtered out from holdout. Reason: incompatible number of items.\n",
      "2 userid's were filtered out from testset. Reason: inconsistent with holdout.\n",
      "Done.\n",
      "There are 807458 events in the training and 12060 events in the holdout.\n",
      "PureSVD training time: 0.126s\n",
      "Hybrid training time: 0.913s\n",
      "Preparing data...\n"
     ]
    },
    {
     "name": "stderr",
     "output_type": "stream",
     "text": [
      "/Library/Frameworks/Python.framework/Versions/3.8/lib/python3.8/site-packages/recommender-0.2.1-py3.8.egg/recommender/algorithms/data.py:16: FutureWarning: is_copy is deprecated and will be removed in a future version. 'take' always returns a copy, so there is no need to specify this.\n"
     ]
    },
    {
     "name": "stdout",
     "output_type": "stream",
     "text": [
      "1 unique movieid's within 1 holdout interactions were filtered. Reason: not in the training data.\n",
      "1 of 1208 userid's were filtered out from holdout. Reason: incompatible number of items.\n",
      "1 userid's were filtered out from testset. Reason: inconsistent with holdout.\n",
      "Done.\n",
      "There are 803312 events in the training and 12070 events in the holdout.\n",
      "PureSVD training time: 0.134s\n",
      "Hybrid training time: 0.989s\n",
      "Preparing data...\n"
     ]
    },
    {
     "name": "stderr",
     "output_type": "stream",
     "text": [
      "/Library/Frameworks/Python.framework/Versions/3.8/lib/python3.8/site-packages/recommender-0.2.1-py3.8.egg/recommender/algorithms/data.py:16: FutureWarning: is_copy is deprecated and will be removed in a future version. 'take' always returns a copy, so there is no need to specify this.\n"
     ]
    },
    {
     "name": "stdout",
     "output_type": "stream",
     "text": [
      "1 unique movieid's within 1 testset interactions were filtered. Reason: not in the training data.\n",
      "2 unique movieid's within 2 holdout interactions were filtered. Reason: not in the training data.\n",
      "2 of 1208 userid's were filtered out from holdout. Reason: incompatible number of items.\n",
      "1 userid's were filtered out from testset. Reason: inconsistent with holdout.\n",
      "Done.\n",
      "There are 792890 events in the training and 12060 events in the holdout.\n",
      "PureSVD training time: 0.108s\n",
      "Hybrid training time: 1.211s\n",
      "Preparing data...\n"
     ]
    },
    {
     "name": "stderr",
     "output_type": "stream",
     "text": [
      "/Library/Frameworks/Python.framework/Versions/3.8/lib/python3.8/site-packages/recommender-0.2.1-py3.8.egg/recommender/algorithms/data.py:16: FutureWarning: is_copy is deprecated and will be removed in a future version. 'take' always returns a copy, so there is no need to specify this.\n"
     ]
    },
    {
     "name": "stdout",
     "output_type": "stream",
     "text": [
      "1 unique movieid's within 1 testset interactions were filtered. Reason: not in the training data.\n",
      "4 unique movieid's within 4 holdout interactions were filtered. Reason: not in the training data.\n",
      "4 of 1208 userid's were filtered out from holdout. Reason: incompatible number of items.\n",
      "1 userid's were filtered out from holdout. Reason: inconsistent with testset.\n",
      "4 userid's were filtered out from testset. Reason: inconsistent with holdout.\n",
      "Done.\n",
      "There are 808443 events in the training and 12030 events in the holdout.\n",
      "PureSVD training time: 0.107s\n",
      "Hybrid training time: 0.851s\n",
      "Preparing data...\n"
     ]
    },
    {
     "name": "stderr",
     "output_type": "stream",
     "text": [
      "/Library/Frameworks/Python.framework/Versions/3.8/lib/python3.8/site-packages/recommender-0.2.1-py3.8.egg/recommender/algorithms/data.py:16: FutureWarning: is_copy is deprecated and will be removed in a future version. 'take' always returns a copy, so there is no need to specify this.\n"
     ]
    },
    {
     "name": "stdout",
     "output_type": "stream",
     "text": [
      "2 unique movieid's within 2 holdout interactions were filtered. Reason: not in the training data.\n",
      "2 of 1208 userid's were filtered out from holdout. Reason: incompatible number of items.\n",
      "2 userid's were filtered out from testset. Reason: inconsistent with holdout.\n",
      "Done.\n",
      "There are 788733 events in the training and 12060 events in the holdout.\n",
      "PureSVD training time: 0.110s\n",
      "Hybrid training time: 0.818s\n",
      "Preparing data...\n"
     ]
    },
    {
     "name": "stderr",
     "output_type": "stream",
     "text": [
      "/Library/Frameworks/Python.framework/Versions/3.8/lib/python3.8/site-packages/recommender-0.2.1-py3.8.egg/recommender/algorithms/data.py:16: FutureWarning: is_copy is deprecated and will be removed in a future version. 'take' always returns a copy, so there is no need to specify this.\n"
     ]
    },
    {
     "name": "stdout",
     "output_type": "stream",
     "text": [
      "2 unique movieid's within 2 holdout interactions were filtered. Reason: not in the training data.\n",
      "2 of 1208 userid's were filtered out from holdout. Reason: incompatible number of items.\n",
      "2 userid's were filtered out from testset. Reason: inconsistent with holdout.\n",
      "Done.\n",
      "There are 807458 events in the training and 12060 events in the holdout.\n",
      "PureSVD training time: 0.112s\n",
      "Hybrid training time: 0.940s\n"
     ]
    }
   ],
   "source": [
    "result = {}\n",
    "for test_sample in test_samples:\n",
    "    data_model.test_sample = test_sample\n",
    "    result[test_sample] = ee.run_cv_experiment(models,\n",
    "                                               folds,\n",
    "                                               metrics,\n",
    "                                               fold_experiment=ee.topk_test,\n",
    "                                               topk_list=topk_list)"
   ]
  },
  {
   "cell_type": "code",
   "execution_count": 13,
   "metadata": {
    "ExecuteTime": {
     "end_time": "2017-01-19T00:19:57.868000",
     "start_time": "2017-01-18T21:19:57.512Z"
    }
   },
   "outputs": [],
   "source": [
    "test_sample = 0"
   ]
  },
  {
   "cell_type": "code",
   "execution_count": 14,
   "metadata": {},
   "outputs": [],
   "source": [
    "scores = result[test_sample].mean(axis=0, level=['top-n', 'model'])\n",
    "deviation = result[test_sample].std(axis=0, level=['top-n', 'model'])"
   ]
  },
  {
   "cell_type": "code",
   "execution_count": 15,
   "metadata": {},
   "outputs": [
    {
     "data": {
      "text/html": [
       "<div>\n",
       "<style scoped>\n",
       "    .dataframe tbody tr th:only-of-type {\n",
       "        vertical-align: middle;\n",
       "    }\n",
       "\n",
       "    .dataframe tbody tr th {\n",
       "        vertical-align: top;\n",
       "    }\n",
       "\n",
       "    .dataframe thead tr th {\n",
       "        text-align: left;\n",
       "    }\n",
       "\n",
       "    .dataframe thead tr:last-of-type th {\n",
       "        text-align: right;\n",
       "    }\n",
       "</style>\n",
       "<table border=\"1\" class=\"dataframe\">\n",
       "  <thead>\n",
       "    <tr>\n",
       "      <th>metric</th>\n",
       "      <th colspan=\"4\" halign=\"left\">nDCG</th>\n",
       "      <th colspan=\"4\" halign=\"left\">nDCL</th>\n",
       "    </tr>\n",
       "    <tr>\n",
       "      <th>model</th>\n",
       "      <th>Hybrid</th>\n",
       "      <th>MP</th>\n",
       "      <th>PureSVD</th>\n",
       "      <th>RND</th>\n",
       "      <th>Hybrid</th>\n",
       "      <th>MP</th>\n",
       "      <th>PureSVD</th>\n",
       "      <th>RND</th>\n",
       "    </tr>\n",
       "    <tr>\n",
       "      <th>top-n</th>\n",
       "      <th></th>\n",
       "      <th></th>\n",
       "      <th></th>\n",
       "      <th></th>\n",
       "      <th></th>\n",
       "      <th></th>\n",
       "      <th></th>\n",
       "      <th></th>\n",
       "    </tr>\n",
       "  </thead>\n",
       "  <tbody>\n",
       "    <tr>\n",
       "      <th>1</th>\n",
       "      <td>0.069047</td>\n",
       "      <td>0.034049</td>\n",
       "      <td>0.077220</td>\n",
       "      <td>0.000463</td>\n",
       "      <td>0.019111</td>\n",
       "      <td>0.021976</td>\n",
       "      <td>0.026973</td>\n",
       "      <td>0.001412</td>\n",
       "    </tr>\n",
       "    <tr>\n",
       "      <th>2</th>\n",
       "      <td>0.098975</td>\n",
       "      <td>0.049284</td>\n",
       "      <td>0.111342</td>\n",
       "      <td>0.000805</td>\n",
       "      <td>0.029356</td>\n",
       "      <td>0.031109</td>\n",
       "      <td>0.040239</td>\n",
       "      <td>0.001739</td>\n",
       "    </tr>\n",
       "    <tr>\n",
       "      <th>3</th>\n",
       "      <td>0.117406</td>\n",
       "      <td>0.057795</td>\n",
       "      <td>0.132601</td>\n",
       "      <td>0.000989</td>\n",
       "      <td>0.038635</td>\n",
       "      <td>0.037549</td>\n",
       "      <td>0.051971</td>\n",
       "      <td>0.002081</td>\n",
       "    </tr>\n",
       "    <tr>\n",
       "      <th>5</th>\n",
       "      <td>0.142477</td>\n",
       "      <td>0.070335</td>\n",
       "      <td>0.159641</td>\n",
       "      <td>0.001398</td>\n",
       "      <td>0.050379</td>\n",
       "      <td>0.048499</td>\n",
       "      <td>0.069481</td>\n",
       "      <td>0.002621</td>\n",
       "    </tr>\n",
       "    <tr>\n",
       "      <th>10</th>\n",
       "      <td>0.178305</td>\n",
       "      <td>0.091356</td>\n",
       "      <td>0.197528</td>\n",
       "      <td>0.002269</td>\n",
       "      <td>0.073676</td>\n",
       "      <td>0.064922</td>\n",
       "      <td>0.101178</td>\n",
       "      <td>0.004211</td>\n",
       "    </tr>\n",
       "    <tr>\n",
       "      <th>15</th>\n",
       "      <td>0.198951</td>\n",
       "      <td>0.105611</td>\n",
       "      <td>0.219348</td>\n",
       "      <td>0.002940</td>\n",
       "      <td>0.089729</td>\n",
       "      <td>0.077387</td>\n",
       "      <td>0.122217</td>\n",
       "      <td>0.005838</td>\n",
       "    </tr>\n",
       "    <tr>\n",
       "      <th>20</th>\n",
       "      <td>0.214130</td>\n",
       "      <td>0.116623</td>\n",
       "      <td>0.234971</td>\n",
       "      <td>0.003573</td>\n",
       "      <td>0.103431</td>\n",
       "      <td>0.086674</td>\n",
       "      <td>0.139544</td>\n",
       "      <td>0.006509</td>\n",
       "    </tr>\n",
       "    <tr>\n",
       "      <th>30</th>\n",
       "      <td>0.235511</td>\n",
       "      <td>0.130844</td>\n",
       "      <td>0.256997</td>\n",
       "      <td>0.004453</td>\n",
       "      <td>0.125621</td>\n",
       "      <td>0.101282</td>\n",
       "      <td>0.166981</td>\n",
       "      <td>0.008315</td>\n",
       "    </tr>\n",
       "    <tr>\n",
       "      <th>50</th>\n",
       "      <td>0.262716</td>\n",
       "      <td>0.151501</td>\n",
       "      <td>0.284766</td>\n",
       "      <td>0.006308</td>\n",
       "      <td>0.157187</td>\n",
       "      <td>0.125126</td>\n",
       "      <td>0.205027</td>\n",
       "      <td>0.011740</td>\n",
       "    </tr>\n",
       "    <tr>\n",
       "      <th>70</th>\n",
       "      <td>0.280261</td>\n",
       "      <td>0.164905</td>\n",
       "      <td>0.302296</td>\n",
       "      <td>0.007902</td>\n",
       "      <td>0.180260</td>\n",
       "      <td>0.143222</td>\n",
       "      <td>0.230614</td>\n",
       "      <td>0.014341</td>\n",
       "    </tr>\n",
       "    <tr>\n",
       "      <th>100</th>\n",
       "      <td>0.297538</td>\n",
       "      <td>0.180364</td>\n",
       "      <td>0.319825</td>\n",
       "      <td>0.010240</td>\n",
       "      <td>0.207401</td>\n",
       "      <td>0.165874</td>\n",
       "      <td>0.262407</td>\n",
       "      <td>0.018518</td>\n",
       "    </tr>\n",
       "  </tbody>\n",
       "</table>\n",
       "</div>"
      ],
      "text/plain": [
       "metric      nDCG                                    nDCL                      \\\n",
       "model     Hybrid        MP   PureSVD       RND    Hybrid        MP   PureSVD   \n",
       "top-n                                                                          \n",
       "1       0.069047  0.034049  0.077220  0.000463  0.019111  0.021976  0.026973   \n",
       "2       0.098975  0.049284  0.111342  0.000805  0.029356  0.031109  0.040239   \n",
       "3       0.117406  0.057795  0.132601  0.000989  0.038635  0.037549  0.051971   \n",
       "5       0.142477  0.070335  0.159641  0.001398  0.050379  0.048499  0.069481   \n",
       "10      0.178305  0.091356  0.197528  0.002269  0.073676  0.064922  0.101178   \n",
       "15      0.198951  0.105611  0.219348  0.002940  0.089729  0.077387  0.122217   \n",
       "20      0.214130  0.116623  0.234971  0.003573  0.103431  0.086674  0.139544   \n",
       "30      0.235511  0.130844  0.256997  0.004453  0.125621  0.101282  0.166981   \n",
       "50      0.262716  0.151501  0.284766  0.006308  0.157187  0.125126  0.205027   \n",
       "70      0.280261  0.164905  0.302296  0.007902  0.180260  0.143222  0.230614   \n",
       "100     0.297538  0.180364  0.319825  0.010240  0.207401  0.165874  0.262407   \n",
       "\n",
       "metric            \n",
       "model        RND  \n",
       "top-n             \n",
       "1       0.001412  \n",
       "2       0.001739  \n",
       "3       0.002081  \n",
       "5       0.002621  \n",
       "10      0.004211  \n",
       "15      0.005838  \n",
       "20      0.006509  \n",
       "30      0.008315  \n",
       "50      0.011740  \n",
       "70      0.014341  \n",
       "100     0.018518  "
      ]
     },
     "execution_count": 15,
     "metadata": {},
     "output_type": "execute_result"
    }
   ],
   "source": [
    "scores['ranking'].unstack('model')"
   ]
  },
  {
   "cell_type": "markdown",
   "metadata": {},
   "source": [
    "# Visualize results"
   ]
  },
  {
   "cell_type": "code",
   "execution_count": 16,
   "metadata": {
    "ExecuteTime": {
     "end_time": "2017-01-19T00:18:13.045000",
     "start_time": "2017-01-19T00:18:13.042000"
    }
   },
   "outputs": [],
   "source": [
    "ERR_ALPHA = 0.1"
   ]
  },
  {
   "cell_type": "markdown",
   "metadata": {},
   "source": [
    "## Predictions for \"known\" user"
   ]
  },
  {
   "cell_type": "code",
   "execution_count": 17,
   "metadata": {},
   "outputs": [
    {
     "data": {
      "image/png": "[encoded data removed]",
      "text/plain": [
       "<Figure size 576x360 with 1 Axes>"
      ]
     },
     "metadata": {
      "needs_background": "light"
     },
     "output_type": "display_data"
    }
   ],
   "source": [
    "show_hit_rates(scores, errors=deviation, err_alpha=ERR_ALPHA)"
   ]
  },
  {
   "cell_type": "code",
   "execution_count": 18,
   "metadata": {},
   "outputs": [
    {
     "data": {
      "image/png": "[encoded data removed]",
      "text/plain": [
       "<Figure size 576x360 with 1 Axes>"
      ]
     },
     "metadata": {
      "needs_background": "light"
     },
     "output_type": "display_data"
    }
   ],
   "source": [
    "show_precision_recall(scores, errors=deviation, err_alpha=ERR_ALPHA)"
   ]
  },
  {
   "cell_type": "code",
   "execution_count": 19,
   "metadata": {},
   "outputs": [
    {
     "data": {
      "image/png": "[encoded data removed]",
      "text/plain": [
       "<Figure size 1152x360 with 2 Axes>"
      ]
     },
     "metadata": {
      "needs_background": "light"
     },
     "output_type": "display_data"
    }
   ],
   "source": [
    "def show_rankings(all_scores, **kwargs):\n",
    "    scores = all_scores['ranking'] if 'ranking' in all_scores else all_scores\n",
    "    keys = ['nDCG', 'nDCL']\n",
    "    kwargs['titles'] = ['Discounted cumulative gain', 'Discounted cumulative loss']\n",
    "    kwargs['errors'] = kwargs['errors']['ranking'] if kwargs.get('errors', None) is not None else None\n",
    "    _plot_pair(scores, keys, **kwargs)\n",
    "show_rankings(scores, errors=deviation, err_alpha=ERR_ALPHA)"
   ]
  },
  {
   "cell_type": "markdown",
   "metadata": {},
   "source": [
    "## Predictions from single negative feedback"
   ]
  },
  {
   "cell_type": "code",
   "execution_count": 20,
   "metadata": {},
   "outputs": [],
   "source": [
    "test_sample = -1"
   ]
  },
  {
   "cell_type": "code",
   "execution_count": 21,
   "metadata": {},
   "outputs": [],
   "source": [
    "scores = result[test_sample].mean(axis=0, level=['top-n', 'model'])\n",
    "deviation = result[test_sample].std(axis=0, level=['top-n', 'model'])"
   ]
  },
  {
   "cell_type": "code",
   "execution_count": 22,
   "metadata": {},
   "outputs": [
    {
     "data": {
      "image/png": "[encoded data removed]",
      "text/plain": [
       "<Figure size 576x360 with 1 Axes>"
      ]
     },
     "metadata": {
      "needs_background": "light"
     },
     "output_type": "display_data"
    }
   ],
   "source": [
    "show_hit_rates(scores, errors=deviation, err_alpha=ERR_ALPHA)"
   ]
  },
  {
   "cell_type": "code",
   "execution_count": 23,
   "metadata": {},
   "outputs": [
    {
     "data": {
      "image/png": "[encoded data removed]",
      "text/plain": [
       "<Figure size 576x360 with 1 Axes>"
      ]
     },
     "metadata": {
      "needs_background": "light"
     },
     "output_type": "display_data"
    }
   ],
   "source": [
    "show_precision_recall(scores, errors=deviation, err_alpha=ERR_ALPHA)"
   ]
  },
  {
   "cell_type": "code",
   "execution_count": 24,
   "metadata": {},
   "outputs": [
    {
     "data": {
      "image/png": "[encoded data removed]",
      "text/plain": [
       "<Figure size 1152x360 with 2 Axes>"
      ]
     },
     "metadata": {
      "needs_background": "light"
     },
     "output_type": "display_data"
    }
   ],
   "source": [
    "def show_rankings(all_scores, **kwargs):\n",
    "    scores = all_scores['ranking'] if 'ranking' in all_scores else all_scores\n",
    "    keys = ['nDCG', 'nDCL']\n",
    "    kwargs['titles'] = ['Discounted cumulative gain', 'Discounted cumulative loss']\n",
    "    kwargs['errors'] = kwargs['errors']['ranking'] if kwargs.get('errors', None) is not None else None\n",
    "    _plot_pair(scores, keys, **kwargs)\n",
    "show_rankings(scores, errors=deviation, err_alpha=ERR_ALPHA)"
   ]
  },
  {
   "cell_type": "markdown",
   "metadata": {},
   "source": [
    "# Comparing the algorithms"
   ]
  },
  {
   "cell_type": "code",
   "execution_count": 25,
   "metadata": {},
   "outputs": [
    {
     "data": {
      "text/html": [
       "<div>\n",
       "<style scoped>\n",
       "    .dataframe tbody tr th:only-of-type {\n",
       "        vertical-align: middle;\n",
       "    }\n",
       "\n",
       "    .dataframe tbody tr th {\n",
       "        vertical-align: top;\n",
       "    }\n",
       "\n",
       "    .dataframe thead tr th {\n",
       "        text-align: left;\n",
       "    }\n",
       "\n",
       "    .dataframe thead tr:last-of-type th {\n",
       "        text-align: right;\n",
       "    }\n",
       "</style>\n",
       "<table border=\"1\" class=\"dataframe\">\n",
       "  <thead>\n",
       "    <tr>\n",
       "      <th>type</th>\n",
       "      <th colspan=\"4\" halign=\"left\">relevance</th>\n",
       "    </tr>\n",
       "    <tr>\n",
       "      <th>model</th>\n",
       "      <th>Hybrid</th>\n",
       "      <th>MP</th>\n",
       "      <th>PureSVD</th>\n",
       "      <th>RND</th>\n",
       "    </tr>\n",
       "    <tr>\n",
       "      <th>top-n</th>\n",
       "      <th></th>\n",
       "      <th></th>\n",
       "      <th></th>\n",
       "      <th></th>\n",
       "    </tr>\n",
       "  </thead>\n",
       "  <tbody>\n",
       "    <tr>\n",
       "      <th>1</th>\n",
       "      <td>0.003664</td>\n",
       "      <td>0.009799</td>\n",
       "      <td>0.005206</td>\n",
       "      <td>0.000241</td>\n",
       "    </tr>\n",
       "    <tr>\n",
       "      <th>2</th>\n",
       "      <td>0.006989</td>\n",
       "      <td>0.015478</td>\n",
       "      <td>0.010372</td>\n",
       "      <td>0.000513</td>\n",
       "    </tr>\n",
       "    <tr>\n",
       "      <th>3</th>\n",
       "      <td>0.009892</td>\n",
       "      <td>0.021689</td>\n",
       "      <td>0.014889</td>\n",
       "      <td>0.000752</td>\n",
       "    </tr>\n",
       "    <tr>\n",
       "      <th>5</th>\n",
       "      <td>0.015585</td>\n",
       "      <td>0.031350</td>\n",
       "      <td>0.022369</td>\n",
       "      <td>0.001338</td>\n",
       "    </tr>\n",
       "    <tr>\n",
       "      <th>10</th>\n",
       "      <td>0.029520</td>\n",
       "      <td>0.055598</td>\n",
       "      <td>0.037226</td>\n",
       "      <td>0.002828</td>\n",
       "    </tr>\n",
       "    <tr>\n",
       "      <th>15</th>\n",
       "      <td>0.040129</td>\n",
       "      <td>0.080349</td>\n",
       "      <td>0.049797</td>\n",
       "      <td>0.004327</td>\n",
       "    </tr>\n",
       "    <tr>\n",
       "      <th>20</th>\n",
       "      <td>0.048084</td>\n",
       "      <td>0.101492</td>\n",
       "      <td>0.061208</td>\n",
       "      <td>0.005597</td>\n",
       "    </tr>\n",
       "    <tr>\n",
       "      <th>30</th>\n",
       "      <td>0.063531</td>\n",
       "      <td>0.139568</td>\n",
       "      <td>0.083621</td>\n",
       "      <td>0.008190</td>\n",
       "    </tr>\n",
       "    <tr>\n",
       "      <th>50</th>\n",
       "      <td>0.088879</td>\n",
       "      <td>0.195207</td>\n",
       "      <td>0.118801</td>\n",
       "      <td>0.014028</td>\n",
       "    </tr>\n",
       "    <tr>\n",
       "      <th>70</th>\n",
       "      <td>0.110936</td>\n",
       "      <td>0.239909</td>\n",
       "      <td>0.148911</td>\n",
       "      <td>0.019190</td>\n",
       "    </tr>\n",
       "    <tr>\n",
       "      <th>100</th>\n",
       "      <td>0.138606</td>\n",
       "      <td>0.294662</td>\n",
       "      <td>0.186073</td>\n",
       "      <td>0.027591</td>\n",
       "    </tr>\n",
       "  </tbody>\n",
       "</table>\n",
       "</div>"
      ],
      "text/plain": [
       "type  relevance                              \n",
       "model    Hybrid        MP   PureSVD       RND\n",
       "top-n                                        \n",
       "1      0.003664  0.009799  0.005206  0.000241\n",
       "2      0.006989  0.015478  0.010372  0.000513\n",
       "3      0.009892  0.021689  0.014889  0.000752\n",
       "5      0.015585  0.031350  0.022369  0.001338\n",
       "10     0.029520  0.055598  0.037226  0.002828\n",
       "15     0.040129  0.080349  0.049797  0.004327\n",
       "20     0.048084  0.101492  0.061208  0.005597\n",
       "30     0.063531  0.139568  0.083621  0.008190\n",
       "50     0.088879  0.195207  0.118801  0.014028\n",
       "70     0.110936  0.239909  0.148911  0.019190\n",
       "100    0.138606  0.294662  0.186073  0.027591"
      ]
     },
     "execution_count": 25,
     "metadata": {},
     "output_type": "execute_result"
    }
   ],
   "source": [
    "scores = result[test_sample].mean(axis=0, level=['top-n', 'model'])\n",
    "scores.xs('recall', level='metric', axis=1).unstack('model')"
   ]
  },
  {
   "cell_type": "code",
   "execution_count": 46,
   "metadata": {},
   "outputs": [
    {
     "name": "stdout",
     "output_type": "stream",
     "text": [
      "Results for Anna Lee C. Iijima on wine with id 741:\n",
      "Collaborative Filtering: \t prediction: 89.65560 \t error: -0.01107\n",
      "Content-Based: \t\t\t prediction: 89.50000 \t error: -0.16667\n"
     ]
    }
   ],
   "source": [
    "test_classifier(taster_name='Anna Lee C. Iijima', wine_id=741)"
   ]
  },
  {
   "cell_type": "code",
   "execution_count": 49,
   "metadata": {},
   "outputs": [
    {
     "name": "stdout",
     "output_type": "stream",
     "text": [
      "Results for Virginie Boone on wine with id 4147:\n",
      "Collaborative Filtering: \t prediction: 87.93883 \t error: 2.83883\n",
      "Content-Based: \t\t\t prediction: 85.50000 \t error: 0.40000\n"
     ]
    }
   ],
   "source": [
    "test_classifier(taster_name='Virginie Boone', wine_id=4147)"
   ]
  },
  {
   "cell_type": "code",
   "execution_count": 50,
   "metadata": {},
   "outputs": [
    {
     "name": "stdout",
     "output_type": "stream",
     "text": [
      "Weighted Hybrid: \t prediction: 89.50000 \t error: -0.16667\n"
     ]
    }
   ],
   "source": [
    "pred_weighted, error_weighted, truth = predict_cn(ratings, wines_plus, taster_name='Anna Lee C. Iijima', wine_id=741)\n",
    "print(\"Weighted Hybrid: \\t prediction: {:.5f} \\t error: {:.5f}\".format(pred_weighted, error_weighted))"
   ]
  },
  {
   "cell_type": "code",
   "execution_count": 51,
   "metadata": {},
   "outputs": [
    {
     "name": "stdout",
     "output_type": "stream",
     "text": [
      "Using Collaborative Filtering recommender\n",
      "Switching Hybrid: \t prediction: 89.65560 \t error: -0.01107\n"
     ]
    }
   ],
   "source": [
    "pred, error, truth = predict_switching(ratings, wines, taster_name='Anna Lee C. Iijima', wine_id=741)\n",
    "print(\"Switching Hybrid: \\t prediction: {:.5f} \\t error: {:.5f}\".format(pred, error))"
   ]
  },
  {
   "cell_type": "code",
   "execution_count": 52,
   "metadata": {},
   "outputs": [
    {
     "name": "stdout",
     "output_type": "stream",
     "text": [
      "Using Content-Based recommender\n",
      "Switching Hybrid: \t prediction: 85.50000 \t error: 0.40000\n"
     ]
    }
   ],
   "source": [
    "pred, error, truth = predict_switching(ratings, wines, taster_name='Virginie Boone', wine_id=4147)\n",
    "print(\"Switching Hybrid: \\t prediction: {:.5f} \\t error: {:.5f}\".format(pred, error))"
   ]
  },
  {
   "cell_type": "code",
   "execution_count": 69,
   "metadata": {},
   "outputs": [
    {
     "name": "stdout",
     "output_type": "stream",
     "text": [
      "Evaluating RMSE, MAE of algorithm SVD on 5 split(s).\n",
      "\n",
      "                  Fold 1  Fold 2  Fold 3  Fold 4  Fold 5  Mean    Std     \n",
      "RMSE (testset)    0.9364  0.9305  0.9298  0.9313  0.9499  0.9355  0.0075  \n",
      "MAE (testset)     0.7391  0.7339  0.7329  0.7325  0.7497  0.7376  0.0065  \n",
      "Fit time          4.03    4.17    4.25    3.88    4.12    4.09    0.12    \n",
      "Test time         0.10    0.14    0.11    0.11    0.19    0.13    0.03    \n"
     ]
    },
    {
     "data": {
      "text/plain": [
       "{'test_rmse': array([0.93636035, 0.93047172, 0.92976903, 0.93125976, 0.94986429]),\n",
       " 'test_mae': array([0.73905804, 0.73393413, 0.7329322 , 0.73248981, 0.74967861]),\n",
       " 'fit_time': (4.029691934585571,\n",
       "  4.166784048080444,\n",
       "  4.246514320373535,\n",
       "  3.884438991546631,\n",
       "  4.115469694137573),\n",
       " 'test_time': (0.10261416435241699,\n",
       "  0.14330387115478516,\n",
       "  0.10753178596496582,\n",
       "  0.10622000694274902,\n",
       "  0.18938994407653809)}"
      ]
     },
     "execution_count": 69,
     "metadata": {},
     "output_type": "execute_result"
    }
   ],
   "source": [
    "from surprise import SVD\n",
    "from surprise import Dataset\n",
    "from surprise.model_selection import cross_validate\n",
    "\n",
    "# Load the movielens-100k dataset (download it if needed).\n",
    "data = Dataset.load_builtin('ml-100k')\n",
    "\n",
    "# Use the famous SVD algorithm.\n",
    "algo = SVD()\n",
    "\n",
    "# Run 5-fold cross-validation and print results.\n",
    "cross_validate(algo, data, measures=['RMSE', 'MAE'], cv=5, verbose=True)"
   ]
  },
  {
   "cell_type": "code",
   "execution_count": 77,
   "metadata": {},
   "outputs": [
    {
     "name": "stdout",
     "output_type": "stream",
     "text": [
      "{'SVD': 'SVD', 'SVDpp': 'SVD++', 'NMF': 'NMF', 'SlopeOne': 'Slope One', 'KNNBasic': 'k-NN', 'KNNWithMeans': 'Centered k-NN', 'KNNBaseline': 'k-NN Baseline', 'CoClustering': 'Co-Clustering', 'BaselineOnly': 'Baseline', 'NormalPredictor': 'Random', 'ml-100k': 'Movielens 100k', 'ml-1m': 'Movielens 1M'}\n"
     ]
    }
   ],
   "source": [
    "stable = ''\n",
    "LINK = {'SVD':  'SVD' ,\n",
    "        'SVDpp':  'SVD++' ,\n",
    "        'NMF':  'NMF' ,\n",
    "        'SlopeOne':  'Slope One' ,\n",
    "        'KNNBasic':  'k-NN' ,\n",
    "        'KNNWithMeans':  'Centered k-NN' ,\n",
    "        'KNNBaseline':  'k-NN Baseline' ,\n",
    "        'CoClustering':  'Co-Clustering' ,\n",
    "        'BaselineOnly':  'Baseline' ,\n",
    "        'NormalPredictor':  'Random' ,\n",
    "        'ml-100k':  'Movielens 100k' ,\n",
    "        'ml-1m':  'Movielens 1M' ,\n",
    "        }\n",
    "print(LINK)"
   ]
  },
  {
   "cell_type": "code",
   "execution_count": 78,
   "metadata": {},
   "outputs": [
    {
     "name": "stdout",
     "output_type": "stream",
     "text": [
      "|:----|------:|------:|:--------|\n",
      "| SVD | 0.936 | 0.738 | 0:00:21 |\n",
      "|:------|------:|------:|:--------|\n",
      "| SVD++ | 0.922 | 0.723 | 0:13:07 |\n",
      "|:----|------:|------:|:--------|\n",
      "| NMF | 0.964 | 0.758 | 0:00:23 |\n",
      "|:----------|------:|------:|:--------|\n",
      "| Slope One | 0.946 | 0.743 | 0:00:16 |\n",
      "Computing the msd similarity matrix...\n",
      "Done computing similarity matrix.\n",
      "Computing the msd similarity matrix...\n",
      "Done computing similarity matrix.\n",
      "Computing the msd similarity matrix...\n",
      "Done computing similarity matrix.\n",
      "Computing the msd similarity matrix...\n",
      "Done computing similarity matrix.\n",
      "Computing the msd similarity matrix...\n",
      "Done computing similarity matrix.\n",
      "|:-----|-----:|------:|:--------|\n",
      "| k-NN | 0.98 | 0.774 | 0:00:14 |\n",
      "Computing the msd similarity matrix...\n",
      "Done computing similarity matrix.\n",
      "Computing the msd similarity matrix...\n",
      "Done computing similarity matrix.\n",
      "Computing the msd similarity matrix...\n",
      "Done computing similarity matrix.\n",
      "Computing the msd similarity matrix...\n",
      "Done computing similarity matrix.\n",
      "Computing the msd similarity matrix...\n",
      "Done computing similarity matrix.\n",
      "|:--------------|------:|------:|:--------|\n",
      "| Centered k-NN | 0.951 | 0.749 | 0:00:15 |\n",
      "Estimating biases using als...\n",
      "Computing the msd similarity matrix...\n",
      "Done computing similarity matrix.\n",
      "Estimating biases using als...\n",
      "Computing the msd similarity matrix...\n",
      "Done computing similarity matrix.\n",
      "Estimating biases using als...\n",
      "Computing the msd similarity matrix...\n",
      "Done computing similarity matrix.\n",
      "Estimating biases using als...\n",
      "Computing the msd similarity matrix...\n",
      "Done computing similarity matrix.\n",
      "Estimating biases using als...\n",
      "Computing the msd similarity matrix...\n",
      "Done computing similarity matrix.\n",
      "|:--------------|------:|------:|:--------|\n",
      "| k-NN Baseline | 0.931 | 0.733 | 0:00:18 |\n",
      "|:--------------|------:|------:|:--------|\n",
      "| Co-Clustering | 0.965 | 0.755 | 0:00:08 |\n",
      "Estimating biases using als...\n",
      "Estimating biases using als...\n",
      "Estimating biases using als...\n",
      "Estimating biases using als...\n",
      "Estimating biases using als...\n",
      "|:---------|------:|------:|:--------|\n",
      "| Baseline | 0.944 | 0.748 | 0:00:02 |\n",
      "|:-------|------:|------:|:--------|\n",
      "| Random | 1.523 | 1.222 | 0:00:02 |\n",
      "| Movielens 100k   |   RMSE |   MAE | Time    |\n",
      "|:-----------------|-------:|------:|:--------|\n",
      "| SVD              |  0.936 | 0.738 | 0:00:21 |\n",
      "| SVD++            |  0.922 | 0.723 | 0:13:07 |\n",
      "| NMF              |  0.964 | 0.758 | 0:00:23 |\n",
      "| Slope One        |  0.946 | 0.743 | 0:00:16 |\n",
      "| k-NN             |  0.98  | 0.774 | 0:00:14 |\n",
      "| Centered k-NN    |  0.951 | 0.749 | 0:00:15 |\n",
      "| k-NN Baseline    |  0.931 | 0.733 | 0:00:18 |\n",
      "| Co-Clustering    |  0.965 | 0.755 | 0:00:08 |\n",
      "| Baseline         |  0.944 | 0.748 | 0:00:02 |\n",
      "| Random           |  1.523 | 1.222 | 0:00:02 |\n"
     ]
    }
   ],
   "source": [
    "np.random.seed(0)\n",
    "random.seed(0)\n",
    "\n",
    "dataset = 'ml-100k'\n",
    "data = Dataset.load_builtin(dataset)\n",
    "kf = KFold(random_state=0)  # folds will be the same for all algorithms.\n",
    "\n",
    "table = []\n",
    "for klass in classes:\n",
    "    start = time.time()\n",
    "    out = cross_validate(klass(), data, ['rmse', 'mae'], kf)\n",
    "    cv_time = str(datetime.timedelta(seconds=int(time.time() - start)))\n",
    "    link = LINK[klass.__name__]\n",
    "    mean_rmse = '{:.3f}'.format(np.mean(out['test_rmse']))\n",
    "    mean_mae = '{:.3f}'.format(np.mean(out['test_mae']))\n",
    "\n",
    "    new_line = [link, mean_rmse, mean_mae, cv_time]\n",
    "    print(tabulate([new_line], tablefmt=\"pipe\"))  # print current algo perf\n",
    "    table.append(new_line)\n",
    "\n",
    "header = [LINK[dataset],\n",
    "          'RMSE',\n",
    "          'MAE',\n",
    "          'Time'\n",
    "          ]\n",
    "print(tabulate(table, header, tablefmt=\"pipe\"))"
   ]
  },
  {
   "cell_type": "code",
   "execution_count": null,
   "metadata": {},
   "outputs": [],
   "source": []
  }
 ],
 "metadata": {
  "kernelspec": {
   "display_name": "Python 3",
   "language": "python",
   "name": "python3"
  },
  "language_info": {
   "codemirror_mode": {
    "name": "ipython",
    "version": 3
   },
   "file_extension": ".py",
   "mimetype": "text/x-python",
   "name": "python",
   "nbconvert_exporter": "python",
   "pygments_lexer": "ipython3",
   "version": "3.8.3"
  },
  "toc": {
   "nav_menu": {},
   "number_sections": true,
   "sideBar": true,
   "skip_h1_title": false,
   "title_cell": "Table of Contents",
   "title_sidebar": "Contents",
   "toc_cell": false,
   "toc_position": {},
   "toc_section_display": "block",
   "toc_window_display": false
  }
 },
 "nbformat": 4,
 "nbformat_minor": 2
}
